{
 "cells": [
  {
   "cell_type": "markdown",
   "metadata": {
    "collapsed": true
   },
   "source": [
    "# 图片和视频"
   ]
  },
  {
   "cell_type": "markdown",
   "metadata": {},
   "source": [
    "## 一、图片基本操作"
   ]
  },
  {
   "cell_type": "code",
   "execution_count": 3,
   "metadata": {},
   "outputs": [],
   "source": [
    "import cv2\n",
    "import matplotlib.pyplot as plt\n",
    "import numpy as np"
   ]
  },
  {
   "cell_type": "code",
   "execution_count": 5,
   "metadata": {},
   "outputs": [],
   "source": [
    "# 图片读取默认是BGR格式\n",
    "def read_img(path):\n",
    "    return cv2.imread(path)\n",
    "\n",
    "\n",
    "def read_rgb_img(path):\n",
    "    img = read_img(path)\n",
    "    return cv2.cvtColor(img, cv2.COLOR_BGR2RGB)\n",
    "\n",
    "\n",
    "def write_img(file_name, mat):\n",
    "    cv2.imwrite(file_name, mat)\n"
   ]
  },
  {
   "cell_type": "markdown",
   "metadata": {
    "collapsed": true
   },
   "source": [
    "## 二、视频的处理\n",
    "\n",
    "在实际应用场景中，视频的来源，大部分都是通过摄像头获取的。由于设备有限，这里也只采用电脑本身自带的摄像头。"
   ]
  },
  {
   "cell_type": "code",
   "execution_count": 7,
   "metadata": {
    "collapsed": true
   },
   "outputs": [],
   "source": [
    "def test_video_capture():\n",
    "    capture = cv2.VideoCapture(0)\n",
    "    success, frame = capture.read()\n",
    "    cv2.namedWindow(\"Image\")\n",
    "    # 当检测到没有键盘按键时，cv2.waitKey(1) 返回值为-1\n",
    "    while success and cv2.waitKey(1) == -1:\n",
    "        cv2.imshow(\"Image\", frame)\n",
    "        success, frame = capture.read()\n",
    "\n",
    "    cv2.destroyAllWindows()\n",
    "    capture.release()\n"
   ]
  }
 ],
 "metadata": {
  "kernelspec": {
   "display_name": "Python 2",
   "language": "python",
   "name": "python2"
  },
  "language_info": {
   "codemirror_mode": {
    "name": "ipython",
    "version": 2
   },
   "file_extension": ".py",
   "mimetype": "text/x-python",
   "name": "python",
   "nbconvert_exporter": "python",
   "pygments_lexer": "ipython2",
   "version": "2.7.6"
  }
 },
 "nbformat": 4,
 "nbformat_minor": 0
}
